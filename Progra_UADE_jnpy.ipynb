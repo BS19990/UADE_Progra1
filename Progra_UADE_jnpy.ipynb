{
  "cells": [
    {
      "cell_type": "markdown",
      "metadata": {
        "colab_type": "text",
        "id": "view-in-github"
      },
      "source": [
        "<a href=\"https://colab.research.google.com/github/Lucas303030/UADE_Progra1/blob/main/Progra_UADE_jnpy.ipynb\" target=\"_parent\"><img src=\"https://colab.research.google.com/assets/colab-badge.svg\" alt=\"Open In Colab\"/></a>"
      ]
    },
    {
      "cell_type": "code",
      "execution_count": 115,
      "metadata": {
        "id": "QWGjKqy342E9"
      },
      "outputs": [],
      "source": [
        "import csv\n",
        "import os\n",
        "import random\n",
        "import pandas"
      ]
    },
    {
      "cell_type": "code",
      "execution_count": 116,
      "metadata": {
        "id": "cWyrZ_AK0XAR"
      },
      "outputs": [],
      "source": [
        "\n",
        "\n",
        "def ing_cliente(): # Carga en archivo CSV\n",
        "  id_cliente = int(input(\"Ingrese id: \"))\n",
        "  nombre_cliente = input(\"Ingrese nombre de cliente: \")\n",
        "  apellido_cliente = input(\"Ingrese apellido de cliente: \")\n",
        "  cliente = {\"id\": id_cliente, \"nombre\": nombre_cliente, \"apellido\": apellido_cliente}\n",
        "  encabezado = [\"id\", \"nombre\", \"apellido\"]\n",
        "  \n",
        "  try:\n",
        "    with open('clientes.csv', 'r', newline=\"\") as archivo:\n",
        "      \"\"\" lector = csv.reader(archivo)\n",
        "      for linea in lector:\n",
        "        print(linea) \"\"\"\n",
        "      pass\n",
        "\n",
        "  except FileNotFoundError as error: # Si no existe, se crea archivo clientes\n",
        "    # os.system(\"cls\")\n",
        "    print(\"El archivo no existe, se crea nuevo\")\n",
        "    print(error)\n",
        "\n",
        "    with open(\"clientes.csv\", \"w\", newline=\"\") as archivo:\n",
        "      puntero = csv.DictWriter(archivo, fieldnames=encabezado)\n",
        "      puntero.writeheader()\n",
        "      \n",
        "  with open(\"clientes.csv\", \"a\", newline=\"\") as archivo:\n",
        "      puntero = csv.DictWriter(archivo, fieldnames=encabezado)\n",
        "      puntero.writerow(cliente)"
      ]
    },
    {
      "cell_type": "code",
      "execution_count": 117,
      "metadata": {
        "id": "XtRF_7rZ3p5s"
      },
      "outputs": [],
      "source": [
        "def ing_proveedor():\n",
        "  nombre_proveedor = input(\"Ingrese nombre de proveedor: \")\n",
        "  pass"
      ]
    },
    {
      "cell_type": "code",
      "execution_count": 118,
      "metadata": {
        "id": "pzJ-h-4T4QRd"
      },
      "outputs": [],
      "source": [
        "def ing_prod_valor():\n",
        "  valor_prod = float(input(\"Ingrese precio: \"))\n",
        "  pass"
      ]
    },
    {
      "cell_type": "code",
      "execution_count": 119,
      "metadata": {
        "id": "yP7febVa4dJD"
      },
      "outputs": [],
      "source": [
        "def ing_prod_cant():\n",
        "  cant_prod = float(input(\"Ingrese cantidad: \"))\n",
        "  pass"
      ]
    },
    {
      "cell_type": "code",
      "execution_count": 120,
      "metadata": {},
      "outputs": [],
      "source": [
        "def listar_clientes():\n",
        "    with open(\"clientes.csv\", \"r\") as archivo:\n",
        "        lector = csv.reader(archivo)\n",
        "        for linea in lector:\n",
        "            print(linea)"
      ]
    },
    {
      "cell_type": "code",
      "execution_count": 121,
      "metadata": {
        "id": "K_T1J4K1OnPD"
      },
      "outputs": [],
      "source": [
        "def main_menu():\n",
        "    opciones_main = [\n",
        "        \"1- Ingresar cliente\",\n",
        "        \"2- Ingresar proveedor\",\n",
        "        \"3- Ingresar precio de producto\",\n",
        "        \"4- Listar clientes\",\n",
        "        \"5- Actualizar precios\",\n",
        "        \"6- Actualizar stock\",\n",
        "        \"7- Actualizar proveedores\",\n",
        "    ]\n",
        "\n",
        "    for opcion in opciones_main:\n",
        "        print(opcion)\n",
        "\n",
        "    while True:\n",
        "        try:\n",
        "            choice = int(input(\"Seleccione una opción (1-7): \"))\n",
        "\n",
        "\n",
        "            if 1 <= choice <= 7:\n",
        "                break\n",
        "            else:\n",
        "                print(\"Opción fuera de rango. Por favor, seleccione una opción válida (1-7).\")\n",
        "        except ValueError:\n",
        "            print(\"Entrada inválida. Ingrese un número del 1 al 7.\")\n",
        "\n",
        "    if choice == 1:\n",
        "        ing_cliente()\n",
        "    elif choice == 2:\n",
        "        ing_proveedor()\n",
        "    elif choice == 3:\n",
        "        ing_prod_valor()\n",
        "    elif choice == 4:\n",
        "        listar_clientes()\n",
        "        main_menu()\n",
        "    elif choice == 5:\n",
        "        pass\n",
        "    elif choice == 6:\n",
        "        ing_prod_cant()\n",
        "        pass\n",
        "    elif choice == 7:\n",
        "        pass\n",
        "    else:\n",
        "        print(\"Opción no válida\")\n"
      ]
    },
    {
      "cell_type": "code",
      "execution_count": 122,
      "metadata": {
        "id": "pPFMuktdOwUu"
      },
      "outputs": [
        {
          "name": "stdout",
          "output_type": "stream",
          "text": [
            "1- Ingresar cliente\n",
            "2- Ingresar proveedor\n",
            "3- Ingresar precio de producto\n",
            "4- Listar clientes\n",
            "5- Actualizar precios\n",
            "6- Actualizar stock\n",
            "7- Actualizar proveedores\n",
            "['id', 'nombre', 'apellido']\n",
            "['1', '11', '']\n",
            "['1', 'Lucas', '']\n",
            "['1', 'Lucas', 'Iglesias']\n",
            "['1', '1', '1']\n",
            "['1', 'Lucas', 'Iglesias']\n",
            "['1', '1', '1']\n",
            "1- Ingresar cliente\n",
            "2- Ingresar proveedor\n",
            "3- Ingresar precio de producto\n",
            "4- Listar clientes\n",
            "5- Actualizar precios\n",
            "6- Actualizar stock\n",
            "7- Actualizar proveedores\n",
            "['id', 'nombre', 'apellido']\n",
            "['1', '11', '']\n",
            "['1', 'Lucas', '']\n",
            "['1', 'Lucas', 'Iglesias']\n",
            "['1', '1', '1']\n",
            "['1', 'Lucas', 'Iglesias']\n",
            "['1', '1', '1']\n",
            "1- Ingresar cliente\n",
            "2- Ingresar proveedor\n",
            "3- Ingresar precio de producto\n",
            "4- Listar clientes\n",
            "5- Actualizar precios\n",
            "6- Actualizar stock\n",
            "7- Actualizar proveedores\n",
            "['id', 'nombre', 'apellido']\n",
            "['1', '11', '']\n",
            "['1', 'Lucas', '']\n",
            "['1', 'Lucas', 'Iglesias']\n",
            "['1', '1', '1']\n",
            "['1', 'Lucas', 'Iglesias']\n",
            "['1', '1', '1']\n",
            "1- Ingresar cliente\n",
            "2- Ingresar proveedor\n",
            "3- Ingresar precio de producto\n",
            "4- Listar clientes\n",
            "5- Actualizar precios\n",
            "6- Actualizar stock\n",
            "7- Actualizar proveedores\n",
            "['id', 'nombre', 'apellido']\n",
            "['1', '11', '']\n",
            "['1', 'Lucas', '']\n",
            "['1', 'Lucas', 'Iglesias']\n",
            "['1', '1', '1']\n",
            "['1', 'Lucas', 'Iglesias']\n",
            "['1', '1', '1']\n",
            "1- Ingresar cliente\n",
            "2- Ingresar proveedor\n",
            "3- Ingresar precio de producto\n",
            "4- Listar clientes\n",
            "5- Actualizar precios\n",
            "6- Actualizar stock\n",
            "7- Actualizar proveedores\n"
          ]
        }
      ],
      "source": [
        "main_menu()"
      ]
    }
  ],
  "metadata": {
    "colab": {
      "authorship_tag": "ABX9TyPGIlsz/xxwlSGYDDmgQwcO",
      "include_colab_link": true,
      "provenance": []
    },
    "kernelspec": {
      "display_name": "Python 3",
      "name": "python3"
    },
    "language_info": {
      "codemirror_mode": {
        "name": "ipython",
        "version": 3
      },
      "file_extension": ".py",
      "mimetype": "text/x-python",
      "name": "python",
      "nbconvert_exporter": "python",
      "pygments_lexer": "ipython3",
      "version": "3.10.5"
    }
  },
  "nbformat": 4,
  "nbformat_minor": 0
}
