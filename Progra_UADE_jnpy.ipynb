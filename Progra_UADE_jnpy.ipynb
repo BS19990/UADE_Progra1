{
  "cells": [
    {
      "cell_type": "markdown",
      "metadata": {
        "colab_type": "text",
        "id": "view-in-github"
      },
      "source": [
        "<a href=\"https://colab.research.google.com/github/Lucas303030/UADE_Progra1/blob/main/Progra_UADE_jnpy.ipynb\" target=\"_parent\"><img src=\"https://colab.research.google.com/assets/colab-badge.svg\" alt=\"Open In Colab\"/></a>"
      ]
    },
    {
      "cell_type": "code",
      "execution_count": 1,
      "metadata": {
        "id": "QWGjKqy342E9"
      },
      "outputs": [
        {
          "ename": "ModuleNotFoundError",
          "evalue": "No module named 'pandas'",
          "output_type": "error",
          "traceback": [
            "\u001b[1;31m---------------------------------------------------------------------------\u001b[0m",
            "\u001b[1;31mModuleNotFoundError\u001b[0m                       Traceback (most recent call last)",
            "\u001b[1;32mc:\\Users\\Lucas\\Documents\\GitHub\\UADE_Progra1\\Progra_UADE_jnpy.ipynb Cell 2\u001b[0m line \u001b[0;36m4\n\u001b[0;32m      <a href='vscode-notebook-cell:/c%3A/Users/Lucas/Documents/GitHub/UADE_Progra1/Progra_UADE_jnpy.ipynb#W1sZmlsZQ%3D%3D?line=1'>2</a>\u001b[0m \u001b[39mimport\u001b[39;00m \u001b[39mos\u001b[39;00m\n\u001b[0;32m      <a href='vscode-notebook-cell:/c%3A/Users/Lucas/Documents/GitHub/UADE_Progra1/Progra_UADE_jnpy.ipynb#W1sZmlsZQ%3D%3D?line=2'>3</a>\u001b[0m \u001b[39mimport\u001b[39;00m \u001b[39mrandom\u001b[39;00m\n\u001b[1;32m----> <a href='vscode-notebook-cell:/c%3A/Users/Lucas/Documents/GitHub/UADE_Progra1/Progra_UADE_jnpy.ipynb#W1sZmlsZQ%3D%3D?line=3'>4</a>\u001b[0m \u001b[39mimport\u001b[39;00m \u001b[39mpandas\u001b[39;00m\n\u001b[0;32m      <a href='vscode-notebook-cell:/c%3A/Users/Lucas/Documents/GitHub/UADE_Progra1/Progra_UADE_jnpy.ipynb#W1sZmlsZQ%3D%3D?line=4'>5</a>\u001b[0m \u001b[39mfrom\u001b[39;00m \u001b[39mtabulate\u001b[39;00m \u001b[39mimport\u001b[39;00m tabulate\n",
            "\u001b[1;31mModuleNotFoundError\u001b[0m: No module named 'pandas'"
          ]
        }
      ],
      "source": [
        "import csv\n",
        "import os\n",
        "import random\n",
        "import pandas\n",
        "from tabulate import tabulate"
      ]
    },
    {
      "cell_type": "code",
      "execution_count": null,
      "metadata": {
        "id": "cWyrZ_AK0XAR"
      },
      "outputs": [],
      "source": [
        "\n",
        "\n",
        "def ing_cliente(): # Carga en archivo CSV\n",
        "  id_cliente = int(input(\"Ingrese id: \"))\n",
        "  nombre_cliente = input(\"Ingrese nombre de cliente: \").capitalize()\n",
        "  apellido_cliente = input(\"Ingrese apellido de cliente: \").capitalize()\n",
        "  cliente = {\"id\": id_cliente, \"nombre\": nombre_cliente, \"apellido\": apellido_cliente}\n",
        "  encabezado = [\"id\", \"nombre\", \"apellido\"]\n",
        "  \n",
        "  try:\n",
        "    with open('clientes.csv', 'r', newline=\"\") as archivo:\n",
        "      \"\"\" lector = csv.reader(archivo)\n",
        "      for linea in lector:\n",
        "        print(linea) \"\"\"\n",
        "      pass\n",
        "\n",
        "  except FileNotFoundError as error: # Si no existe, se crea archivo clientes\n",
        "    # os.system(\"cls\")\n",
        "    print(\"El archivo no existe, se crea nuevo\")\n",
        "    print(error)\n",
        "\n",
        "    with open(\"clientes.csv\", \"w\", newline=\"\") as archivo:\n",
        "      puntero = csv.DictWriter(archivo, fieldnames=encabezado)\n",
        "      puntero.writeheader()\n",
        "      \n",
        "  with open(\"clientes.csv\", \"a\", newline=\"\") as archivo:\n",
        "      puntero = csv.DictWriter(archivo, fieldnames=encabezado)\n",
        "      puntero.writerow(cliente)"
      ]
    },
    {
      "cell_type": "code",
      "execution_count": null,
      "metadata": {
        "id": "XtRF_7rZ3p5s"
      },
      "outputs": [],
      "source": [
        "def ing_proveedor():\n",
        "  nombre_proveedor = input(\"Ingrese nombre de proveedor: \")\n",
        "  pass"
      ]
    },
    {
      "cell_type": "code",
      "execution_count": null,
      "metadata": {
        "id": "pzJ-h-4T4QRd"
      },
      "outputs": [],
      "source": [
        "def ing_prod_valor():\n",
        "  valor_prod = float(input(\"Ingrese precio: \"))\n",
        "  pass"
      ]
    },
    {
      "cell_type": "code",
      "execution_count": null,
      "metadata": {
        "id": "yP7febVa4dJD"
      },
      "outputs": [],
      "source": [
        "def ing_prod_cant():\n",
        "  encabezado = [\"id\", \"producto\", \"cantidad\"]\n",
        "  id_prod = int(input(\"Ingrese ID: \"))\n",
        "  producto = input(\"Ingrese SKU: \").upper()\n",
        "  cant_prod = float(input(\"Ingrese cantidad: \"))\n",
        "  productos = {\"id\": id_prod, \"producto\": producto, \"cantidad\": cant_prod}\n",
        "\n",
        "  try:\n",
        "    with open(\"productos.csv\", \"r\") as archivo:\n",
        "      \"\"\"lector = csv.reader(archivo)\n",
        "      for linea in lector:\n",
        "        print (linea)\"\"\"\n",
        "  except FileNotFoundError as error:\n",
        "    with open(\"productos.csv\", \"w\", newline=\"\") as archivo:\n",
        "      puntero = csv.DictWriter(archivo, fieldnames=encabezado)\n",
        "      puntero.writeheader()\n",
        "  with open(\"productos.csv\", \"a\", newline=\"\") as archivo:\n",
        "    puntero = csv.DictWriter(archivo, fieldnames=encabezado)\n",
        "    puntero.writerow(productos)"
      ]
    },
    {
      "cell_type": "code",
      "execution_count": null,
      "metadata": {},
      "outputs": [],
      "source": [
        "def listar_clientes():\n",
        "    tabla = []\n",
        "    encabezado = [\"id\", \"nombre\", \"apellido\"]\n",
        "    with open(\"clientes.csv\", \"r\") as archivo:\n",
        "        lector = csv.reader(archivo)\n",
        "        for linea in lector:\n",
        "            tabla.append(linea)\n",
        "\n",
        "    print(tabulate(tabla, encabezado, tablefmt=\"grid\"))"
      ]
    },
    {
      "cell_type": "code",
      "execution_count": null,
      "metadata": {
        "id": "K_T1J4K1OnPD"
      },
      "outputs": [],
      "source": [
        "def main_menu():\n",
        "    opciones_main = [\n",
        "        \"1- Ingresar cliente\",\n",
        "        \"2- Ingresar proveedor\",\n",
        "        \"3- Ingresar precio de producto\",\n",
        "        \"4- Listar clientes\",\n",
        "        \"5- Ingresar producto\",\n",
        "        \"6- Actualizar stock\",\n",
        "        \"7- Actualizar proveedores\",\n",
        "    ]\n",
        "\n",
        "    for opcion in opciones_main:\n",
        "        print(opcion)\n",
        "\n",
        "    while True:\n",
        "        try:\n",
        "            choice = int(input(\"Seleccione una opción (1-7): \"))\n",
        "\n",
        "\n",
        "            if 1 <= choice <= 7:\n",
        "                break\n",
        "            else:\n",
        "                print(\"Opción fuera de rango. Seleccione una opción válida (1-7).\")\n",
        "        except ValueError:\n",
        "            print(\"Entrada inválida. Ingrese un número del 1 al 7.\")\n",
        "\n",
        "    if choice == 1:\n",
        "        ing_cliente()\n",
        "    elif choice == 2:\n",
        "        ing_proveedor()\n",
        "    elif choice == 3:\n",
        "        ing_prod_valor()\n",
        "    elif choice == 4:\n",
        "        listar_clientes()\n",
        "        main_menu()\n",
        "    elif choice == 5:\n",
        "        ing_prod_cant()\n",
        "    elif choice == 6:\n",
        "        ing_prod_cant()\n",
        "        pass\n",
        "    elif choice == 7:\n",
        "        pass\n",
        "    else:\n",
        "        print(\"Opción no válida\")\n"
      ]
    },
    {
      "cell_type": "code",
      "execution_count": null,
      "metadata": {
        "id": "pPFMuktdOwUu"
      },
      "outputs": [],
      "source": [
        "main_menu()"
      ]
    }
  ],
  "metadata": {
    "colab": {
      "authorship_tag": "ABX9TyPGIlsz/xxwlSGYDDmgQwcO",
      "include_colab_link": true,
      "provenance": []
    },
    "kernelspec": {
      "display_name": "Python 3",
      "name": "python3"
    },
    "language_info": {
      "codemirror_mode": {
        "name": "ipython",
        "version": 3
      },
      "file_extension": ".py",
      "mimetype": "text/x-python",
      "name": "python",
      "nbconvert_exporter": "python",
      "pygments_lexer": "ipython3",
      "version": "3.8.8"
    }
  },
  "nbformat": 4,
  "nbformat_minor": 0
}
